{
 "cells": [
  {
   "cell_type": "markdown",
   "id": "62cd9807-4061-4093-9191-732a06504490",
   "metadata": {},
   "source": [
    "Q1.Discuss string slising and provide examples."
   ]
  },
  {
   "cell_type": "markdown",
   "id": "6b87b03e-0d77-479c-bf97-67f8efddc16d",
   "metadata": {},
   "source": [
    ". string slicing is a process of accising of  data from a perticular index value  \n"
   ]
  },
  {
   "cell_type": "markdown",
   "id": "a816a73e-61b9-43aa-a80f-28d55d476884",
   "metadata": {},
   "source": [
    "Example of string slicing"
   ]
  },
  {
   "cell_type": "code",
   "execution_count": 6,
   "id": "7c6762be-490a-4d3b-a1e9-8c1e7276cd13",
   "metadata": {},
   "outputs": [
    {
     "data": {
      "text/plain": [
       "'h'"
      ]
     },
     "execution_count": 6,
     "metadata": {},
     "output_type": "execute_result"
    }
   ],
   "source": [
    "a = (\"harsh\")\n",
    "a[0]"
   ]
  },
  {
   "cell_type": "markdown",
   "id": "21429731-044e-4a9f-ba8b-697174491104",
   "metadata": {},
   "source": [
    "Q2. Explain the key features of lists in Python"
   ]
  },
  {
   "cell_type": "markdown",
   "id": "239cb9ce-2ad2-4ba4-ad44-b8f59f697572",
   "metadata": {},
   "source": [
    "Lists in Python are versatile and widely used data structures. Here are the key features of lists in Python:\n",
    "\n",
    "Ordered Collection:\n",
    "\n",
    "Lists maintain the order of elements as they are added. The order is preserved when elements are accessed by their position or index.\n",
    "Mutable:\n",
    "\n",
    "Lists can be modified after their creation. You can add, remove, or change elements.\n",
    "Dynamic Size:\n",
    "\n",
    "Lists can grow or shrink as needed. You can add or remove elements at any time.\n",
    "Indexed Access:\n",
    "\n",
    "Elements in a list can be accessed using indices, with the first element at index 0. Negative indexing is also supported, where -1 refers to the last element, -2 to the second last, and so on.\n",
    "Heterogeneous Elements:\n",
    "\n",
    "Lists can contain elements of different types, including integers, floats, strings, other lists, and even custom objects."
   ]
  },
  {
   "cell_type": "markdown",
   "id": "a59dee48-5fc3-46a0-9060-a7849d9a0808",
   "metadata": {},
   "source": [
    "Q3. Describe how to access, modify, and delete elements in a list with examples."
   ]
  },
  {
   "cell_type": "code",
   "execution_count": null,
   "id": "eae41db4-577d-4e0d-a98d-7bd8cdeffbd7",
   "metadata": {},
   "outputs": [],
   "source": [
    "#Access the elements in list"
   ]
  },
  {
   "cell_type": "code",
   "execution_count": 2,
   "id": "6650b5a1-40cb-4f30-a590-8899a90e3e91",
   "metadata": {},
   "outputs": [],
   "source": [
    "list = [\"banana\",\"apple\",\"orange\",\"mango\"]"
   ]
  },
  {
   "cell_type": "code",
   "execution_count": 3,
   "id": "5761190e-0009-4ff7-95d7-c3a5dfd1eaf0",
   "metadata": {},
   "outputs": [
    {
     "data": {
      "text/plain": [
       "'banana'"
      ]
     },
     "execution_count": 3,
     "metadata": {},
     "output_type": "execute_result"
    }
   ],
   "source": [
    "list[0]"
   ]
  },
  {
   "cell_type": "code",
   "execution_count": 4,
   "id": "e4a638c5-a5e6-4695-8ee3-b48aba7aef95",
   "metadata": {},
   "outputs": [],
   "source": [
    "#modify the list"
   ]
  },
  {
   "cell_type": "code",
   "execution_count": 6,
   "id": "bceb1091-d205-4d20-8a8c-0b17129c38d4",
   "metadata": {},
   "outputs": [
    {
     "data": {
      "text/plain": [
       "['banana', 'apple', 'orange', 'mango', 'lichi']"
      ]
     },
     "execution_count": 6,
     "metadata": {},
     "output_type": "execute_result"
    }
   ],
   "source": [
    "list = [\"banana\",\"apple\",\"orange\",\"mango\"]\n",
    "list.append(\"lichi\")\n",
    "list"
   ]
  },
  {
   "cell_type": "code",
   "execution_count": 7,
   "id": "5ddea4fd-389b-4f0d-bc6d-6435c2737b54",
   "metadata": {},
   "outputs": [],
   "source": [
    "#deletion in a list"
   ]
  },
  {
   "cell_type": "code",
   "execution_count": 8,
   "id": "5f9c9ef4-9f14-443b-b7ed-5ca1b0be559b",
   "metadata": {},
   "outputs": [
    {
     "data": {
      "text/plain": [
       "'apple'"
      ]
     },
     "execution_count": 8,
     "metadata": {},
     "output_type": "execute_result"
    }
   ],
   "source": [
    "list = [\"banana\",\"apple\",\"orange\",\"mango\"]\n",
    "list.pop(1)"
   ]
  },
  {
   "cell_type": "code",
   "execution_count": 8,
   "id": "67ca7abb-1872-4f7d-ac96-56854ed12809",
   "metadata": {},
   "outputs": [
    {
     "data": {
      "text/plain": [
       "'apple'"
      ]
     },
     "execution_count": 8,
     "metadata": {},
     "output_type": "execute_result"
    }
   ],
   "source": [
    "list = [\"banana\",\"apple\",\"orange\",\"mango\"]\n",
    "list.pop(1)"
   ]
  },
  {
   "cell_type": "code",
   "execution_count": 10,
   "id": "55c8fa52-f88d-4121-a17f-467433af5e25",
   "metadata": {},
   "outputs": [
    {
     "data": {
      "text/plain": [
       "['banana', 'orange', 'mango']"
      ]
     },
     "execution_count": 10,
     "metadata": {},
     "output_type": "execute_result"
    }
   ],
   "source": [
    "list"
   ]
  },
  {
   "cell_type": "markdown",
   "id": "0190a486-1bb3-43f3-b5bf-a807d6110348",
   "metadata": {},
   "source": [
    "Q4. Compare and contrast tuples and lists with examples"
   ]
  },
  {
   "cell_type": "markdown",
   "id": "e3c9e49f-940d-4baa-a737-1d8fb9506236",
   "metadata": {},
   "source": [
    "Tuples and lists are both data structures in Python used to store collections of items.\n",
    "However,they have some important differences that make them suitable for different use cases."
   ]
  },
  {
   "cell_type": "markdown",
   "id": "9f4362ba-197d-4c7b-b36d-95fd8eef15c4",
   "metadata": {},
   "source": [
    "Differences\n",
    "\n",
    "Mutability:\n",
    "\n",
    "Lists are mutable, meaning their elements can be changed after creation. You can add, remove, or modify elements in a list.\n",
    "Tuples are immutable, meaning their elements cannot be changed once created. You cannot add, remove, or modify elements in a tuple.\n",
    "\n",
    "Syntax:\n",
    "\n",
    "Lists are created using square brackets [].\n",
    "Tuples are created using parentheses ().\n",
    "\n",
    "Performance:\n",
    "\n",
    "Tuples are generally faster than lists for iteration due to their immutability.\n",
    "Lists are slower because they allow operations that modify the data.\n",
    "\n",
    "Use Cases:\n",
    "\n",
    "Lists are preferred when the data collection needs to change dynamically (e.g., adding or removing elements).\n",
    "Tuples are used when the data should not change throughout the program (e.g., coordinates, configuration constants).\n",
    "\n",
    "Methods:\n",
    "\n",
    "Lists have more built-in methods (like append(), remove(), sort(), etc.) because they are mutable.\n",
    "Tuples have fewer methods (like count() and index()) due to their immutability"
   ]
  },
  {
   "cell_type": "code",
   "execution_count": 11,
   "id": "bae5a619-c007-48fc-ad58-de58b46695c6",
   "metadata": {},
   "outputs": [],
   "source": [
    "#Creating a list"
   ]
  },
  {
   "cell_type": "code",
   "execution_count": 12,
   "id": "d037f464-73bc-41d6-9461-44f1dd59d984",
   "metadata": {},
   "outputs": [
    {
     "data": {
      "text/plain": [
       "['apple', 'banana', 'mango']"
      ]
     },
     "execution_count": 12,
     "metadata": {},
     "output_type": "execute_result"
    }
   ],
   "source": [
    "list=[\"apple\",\"banana\",\"mango\"]\n",
    "list"
   ]
  },
  {
   "cell_type": "code",
   "execution_count": 13,
   "id": "1e0c7ade-8ebb-49bf-9b9e-680a28495621",
   "metadata": {},
   "outputs": [],
   "source": [
    "#adding a element"
   ]
  },
  {
   "cell_type": "code",
   "execution_count": 14,
   "id": "68a28b06-49db-4c14-9fa6-815b2e51b0a3",
   "metadata": {},
   "outputs": [],
   "source": [
    "list.append(\"orange\")"
   ]
  },
  {
   "cell_type": "code",
   "execution_count": 15,
   "id": "6b684250-ebb6-46c2-b5e7-de02866b4b59",
   "metadata": {},
   "outputs": [
    {
     "data": {
      "text/plain": [
       "['apple', 'banana', 'mango', 'orange']"
      ]
     },
     "execution_count": 15,
     "metadata": {},
     "output_type": "execute_result"
    }
   ],
   "source": [
    "list"
   ]
  },
  {
   "cell_type": "code",
   "execution_count": 16,
   "id": "e7cdd1fb-c467-4c01-8cf8-8df32772d68a",
   "metadata": {},
   "outputs": [],
   "source": [
    "#removing a  element"
   ]
  },
  {
   "cell_type": "code",
   "execution_count": 20,
   "id": "3047ef03-bdcb-4b26-875f-bcc08948e2c8",
   "metadata": {},
   "outputs": [
    {
     "data": {
      "text/plain": [
       "'mango'"
      ]
     },
     "execution_count": 20,
     "metadata": {},
     "output_type": "execute_result"
    }
   ],
   "source": [
    "list=[\"apple\",\"banana\",\"mango\"]\n",
    "list.pop()"
   ]
  },
  {
   "cell_type": "code",
   "execution_count": 21,
   "id": "b207a0f9-9ace-4c0a-bf9a-2f0756d38c0f",
   "metadata": {},
   "outputs": [
    {
     "data": {
      "text/plain": [
       "['apple', 'banana']"
      ]
     },
     "execution_count": 21,
     "metadata": {},
     "output_type": "execute_result"
    }
   ],
   "source": [
    "list"
   ]
  },
  {
   "cell_type": "markdown",
   "id": "c0b75991-704f-4dc6-818a-804373ac21a3",
   "metadata": {},
   "source": [
    "Tauple"
   ]
  },
  {
   "cell_type": "code",
   "execution_count": 24,
   "id": "b9e8a32a-9614-433f-b09c-89c1f3ad4bdb",
   "metadata": {},
   "outputs": [
    {
     "name": "stdout",
     "output_type": "stream",
     "text": [
      "banana\n",
      "(1, 2, [5, 4])\n"
     ]
    }
   ],
   "source": [
    "fruits = [\"apple\",\"banana\",\"mango\"]\n",
    "print(fruits[1])\n",
    "mixed_tuple = (1, 2, [3, 4])\n",
    "mixed_tuple[2][0] = 5\n",
    "print(mixed_tuple) "
   ]
  },
  {
   "cell_type": "code",
   "execution_count": 23,
   "id": "56c36f36-6de7-403e-af19-f7b597a4262a",
   "metadata": {},
   "outputs": [
    {
     "name": "stdout",
     "output_type": "stream",
     "text": [
      "(1, 2, [5, 4])\n"
     ]
    }
   ],
   "source": [
    "mixed_tuple = (1, 2, [3, 4])\n",
    "mixed_tuple[2][0] = 5\n",
    "print(mixed_tuple) "
   ]
  },
  {
   "cell_type": "markdown",
   "id": "5c94df45-be1b-4996-9970-cac262b44ecc",
   "metadata": {},
   "source": [
    "Q5. Describe the key features of sets and provide examples of their use."
   ]
  },
  {
   "cell_type": "markdown",
   "id": "7c202fb7-c787-4e4e-ba77-b4d8eb045da9",
   "metadata": {},
   "source": [
    "Sets are unordered and unique collection of elements\n",
    "1.sets are mutable (means) it can be change after creation.\n",
    "2.Dynamic = Sets can grow and shrink as items are added or removed.\n",
    "3.Unique Elements = Sets automatically eliminate duplicate elements.\n",
    "If you try to add a duplicate value to a set, it will be ignored.\n"
   ]
  },
  {
   "cell_type": "code",
   "execution_count": 25,
   "id": "4cd9e8df-4f75-4eb6-a264-64d5d8b153b8",
   "metadata": {},
   "outputs": [],
   "source": [
    "#example of set use "
   ]
  },
  {
   "cell_type": "code",
   "execution_count": 47,
   "id": "872f960a-662d-4a63-872d-9763623edd00",
   "metadata": {},
   "outputs": [],
   "source": [
    "s={1,2,4,5,6,6,\"harsh\",\"priyanshiu\"}"
   ]
  },
  {
   "cell_type": "code",
   "execution_count": 48,
   "id": "e9e192d6-ac2f-45b1-a866-e6490b8225dd",
   "metadata": {},
   "outputs": [
    {
     "data": {
      "text/plain": [
       "{1, 2, 4, 5, 6, 'harsh', 'priyanshiu'}"
      ]
     },
     "execution_count": 48,
     "metadata": {},
     "output_type": "execute_result"
    }
   ],
   "source": [
    "s"
   ]
  },
  {
   "cell_type": "code",
   "execution_count": 27,
   "id": "edf3c8f8-0b77-489a-813c-04e0ca8b77f2",
   "metadata": {},
   "outputs": [
    {
     "data": {
      "text/plain": [
       "{1, 2, 4, 5, 6, 'harsh', 'priyanshiu'}"
      ]
     },
     "execution_count": 27,
     "metadata": {},
     "output_type": "execute_result"
    }
   ],
   "source": [
    "\n",
    "s"
   ]
  },
  {
   "cell_type": "code",
   "execution_count": 28,
   "id": "4ec1c3b3-c3ef-4e68-8302-a78435887ee8",
   "metadata": {},
   "outputs": [],
   "source": [
    "s.add(\"sonu\")"
   ]
  },
  {
   "cell_type": "code",
   "execution_count": 29,
   "id": "ddd66fe7-2906-4039-b8d1-a2ecf37714cd",
   "metadata": {},
   "outputs": [
    {
     "data": {
      "text/plain": [
       "{1, 2, 4, 5, 6, 'harsh', 'priyanshiu', 'sonu'}"
      ]
     },
     "execution_count": 29,
     "metadata": {},
     "output_type": "execute_result"
    }
   ],
   "source": [
    "s"
   ]
  },
  {
   "cell_type": "markdown",
   "id": "4f4def2e-d729-42c5-871b-6b1295e0b934",
   "metadata": {},
   "source": [
    "#(frozenset)  = it is versiomn of sets in which the operations of add and remove will not work. "
   ]
  },
  {
   "cell_type": "markdown",
   "id": "908817ea-568e-42cf-8114-105ded228013",
   "metadata": {},
   "source": [
    "Q6. Discuss the use cases of tuples and sets in Python programming"
   ]
  },
  {
   "cell_type": "code",
   "execution_count": 38,
   "id": "6102b1a6-d2e6-472e-a4de-64a89ff8c6f9",
   "metadata": {},
   "outputs": [
    {
     "data": {
      "text/plain": [
       "tuple"
      ]
     },
     "execution_count": 38,
     "metadata": {},
     "output_type": "execute_result"
    }
   ],
   "source": [
    "tuple = (\"harsh\",\"harsh\",1,1,1,3,3,3,\"siddarth\")\n",
    "type(tuple)"
   ]
  },
  {
   "cell_type": "code",
   "execution_count": 40,
   "id": "9c4a14f2-aaaf-4d55-948c-7d70132a49a1",
   "metadata": {},
   "outputs": [
    {
     "data": {
      "text/plain": [
       "3"
      ]
     },
     "execution_count": 40,
     "metadata": {},
     "output_type": "execute_result"
    }
   ],
   "source": [
    "tuple.count(1)"
   ]
  },
  {
   "cell_type": "code",
   "execution_count": 46,
   "id": "9e3adf2e-ef7a-47d7-ab46-c046d9e57417",
   "metadata": {},
   "outputs": [
    {
     "data": {
      "text/plain": [
       "5"
      ]
     },
     "execution_count": 46,
     "metadata": {},
     "output_type": "execute_result"
    }
   ],
   "source": [
    "tuple.index(3)\n"
   ]
  },
  {
   "cell_type": "code",
   "execution_count": 49,
   "id": "30402d5a-e174-4534-a4f3-71689d5141f9",
   "metadata": {},
   "outputs": [],
   "source": [
    "# operations in sets"
   ]
  },
  {
   "cell_type": "code",
   "execution_count": 50,
   "id": "850d8739-6edc-47d0-b956-2ccd4e5ebaa9",
   "metadata": {},
   "outputs": [],
   "source": [
    "s = {1,1,1,1,2,2,5,6,6,\"harsh\",\"sonu\",\"priyanshu\"}"
   ]
  },
  {
   "cell_type": "code",
   "execution_count": 51,
   "id": "8b70350f-219e-4dfb-9fb5-27f4736f069b",
   "metadata": {},
   "outputs": [
    {
     "data": {
      "text/plain": [
       "{1, 2, 5, 6, 'harsh', 'priyanshu', 'sonu'}"
      ]
     },
     "execution_count": 51,
     "metadata": {},
     "output_type": "execute_result"
    }
   ],
   "source": [
    "s"
   ]
  },
  {
   "cell_type": "code",
   "execution_count": 53,
   "id": "823789b9-e888-40cc-83b6-c9da022bb5fa",
   "metadata": {},
   "outputs": [],
   "source": [
    "# here set will short out  the repeted value that were use in a set.  "
   ]
  },
  {
   "cell_type": "markdown",
   "id": "35f342ff-6cb9-4002-bd41-5c3a3bbb86ff",
   "metadata": {},
   "source": [
    "Q.7  Describe how to add, modify, and delete items in a dictionary with examples"
   ]
  },
  {
   "cell_type": "code",
   "execution_count": 61,
   "id": "1f64c4f6-98a8-4add-b210-03516c209258",
   "metadata": {},
   "outputs": [],
   "source": [
    "#acces the value\n",
    "\n",
    "d = {\"name\":\"harsh\",\"email\":\"harsh@gmail.com\",\"contact\":12345}"
   ]
  },
  {
   "cell_type": "code",
   "execution_count": 62,
   "id": "507b7182-1a42-4c6a-aed7-c3cbb47f957a",
   "metadata": {},
   "outputs": [
    {
     "data": {
      "text/plain": [
       "dict"
      ]
     },
     "execution_count": 62,
     "metadata": {},
     "output_type": "execute_result"
    }
   ],
   "source": [
    "type(d)"
   ]
  },
  {
   "cell_type": "code",
   "execution_count": 63,
   "id": "042a9866-06ba-4cc8-b3bf-767ed8ffb019",
   "metadata": {},
   "outputs": [
    {
     "data": {
      "text/plain": [
       "'harsh'"
      ]
     },
     "execution_count": 63,
     "metadata": {},
     "output_type": "execute_result"
    }
   ],
   "source": [
    "d['name']"
   ]
  },
  {
   "cell_type": "code",
   "execution_count": 64,
   "id": "7d235d9b-ab10-4f57-9eb9-97a5e9446ed5",
   "metadata": {},
   "outputs": [
    {
     "data": {
      "text/plain": [
       "12345"
      ]
     },
     "execution_count": 64,
     "metadata": {},
     "output_type": "execute_result"
    }
   ],
   "source": [
    "d['contact']"
   ]
  },
  {
   "cell_type": "code",
   "execution_count": 65,
   "id": "48d1bf5d-54c1-4d57-8589-f7954db7682c",
   "metadata": {},
   "outputs": [],
   "source": [
    "#modify the value \n",
    "\n",
    "d['name']= \"ashu\""
   ]
  },
  {
   "cell_type": "code",
   "execution_count": 66,
   "id": "54b145fc-e117-45d1-a87f-0c6585a4a5c9",
   "metadata": {},
   "outputs": [
    {
     "data": {
      "text/plain": [
       "'ashu'"
      ]
     },
     "execution_count": 66,
     "metadata": {},
     "output_type": "execute_result"
    }
   ],
   "source": [
    "d['name']"
   ]
  },
  {
   "cell_type": "code",
   "execution_count": 67,
   "id": "301bda0e-a968-409f-afaf-a063052a73d0",
   "metadata": {},
   "outputs": [
    {
     "data": {
      "text/plain": [
       "{'name': 'ashu', 'email': 'harsh@gmail.com', 'contact': 12345}"
      ]
     },
     "execution_count": 67,
     "metadata": {},
     "output_type": "execute_result"
    }
   ],
   "source": [
    "d"
   ]
  },
  {
   "cell_type": "code",
   "execution_count": 68,
   "id": "26ce44e0-b2af-42f3-aa4c-dcdd8dd792f5",
   "metadata": {},
   "outputs": [],
   "source": [
    "#delet the value"
   ]
  },
  {
   "cell_type": "code",
   "execution_count": 69,
   "id": "3df1f764-f738-4242-9064-f61831fede4a",
   "metadata": {},
   "outputs": [
    {
     "data": {
      "text/plain": [
       "{'name': 'ashu', 'email': 'harsh@gmail.com'}"
      ]
     },
     "execution_count": 69,
     "metadata": {},
     "output_type": "execute_result"
    }
   ],
   "source": [
    "del d['contact']\n",
    "d"
   ]
  },
  {
   "cell_type": "markdown",
   "id": "0e626b17-8d04-4a3f-9758-0e96dd381a76",
   "metadata": {},
   "source": [
    "Q8. Discuss the importance of dictionary keys being immutable and provide examples"
   ]
  },
  {
   "cell_type": "code",
   "execution_count": null,
   "id": "f07ea1ae-8d74-465d-8376-2d1e914400ff",
   "metadata": {},
   "outputs": [],
   "source": [
    "Dictionary keys are being immutable because  key values can not  be chanege in lifetime ."
   ]
  }
 ],
 "metadata": {
  "kernelspec": {
   "display_name": "Python 3 (ipykernel)",
   "language": "python",
   "name": "python3"
  },
  "language_info": {
   "codemirror_mode": {
    "name": "ipython",
    "version": 3
   },
   "file_extension": ".py",
   "mimetype": "text/x-python",
   "name": "python",
   "nbconvert_exporter": "python",
   "pygments_lexer": "ipython3",
   "version": "3.10.8"
  }
 },
 "nbformat": 4,
 "nbformat_minor": 5
}
